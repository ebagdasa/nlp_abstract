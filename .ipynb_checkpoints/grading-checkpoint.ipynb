{
 "cells": [
  {
   "cell_type": "code",
   "execution_count": 3,
   "metadata": {
    "collapsed": true
   },
   "outputs": [],
   "source": [
    "a = \"\"\"Name,Max,akr87,an536,bg447,bk494,bl657,cih5,cz365,ebk46,hc839,hcg28,hg383,hl937,hl938,jfl95,jp2338,ksa55,ls843,mw856,mw866,oe37,pmg83,pst37,rw533,rx56,sp2335,ssk272,sx225,tlh99,wz323,yc2256,yl2556,yx349,zl558\n",
    "1.Routing.a,3,0,3,3,3,3,3,3,3,3,3,3,3,2,3,3,2,3,3,2,1,3,2,3,1,3,3,2,3,2,2,3,3,3\n",
    "1.Routing.b,3,1,1,1,3,1,1,1,3,1,3,3,1,3,1,1,1,1,3,1,3,1,3,3,1,1,3,1,3,1,1,1,3,1\n",
    "1.Routing.c,3,1,3,3,1,1,3,3,3,3,3,3,2,3,3,3,1,3,3,3,0,3,3,3,3,3,3,2,3,0,3,3,3,3\n",
    "2.DNS.a,3,3,3,3,3,3,3,3,3,3,3,3,3,3,3,3,3,3,3,3,3,3,3,3,3,3,3,3,3,3,3,3,3,3\n",
    "2.DNS.b,3,3,3,3,3,1,3,3,3,3,3,3,3,3,3,1,3,3,3,3,3,3,3,3,3,3,3,3,3,3,3,3,3,3\n",
    "2.DNS.c,3,3,3,3,3,3,3,3,3,3,3,3,3,3,3,3,3,3,3,3,3,3,3,3,3,3,3,3,3,3,3,3,3,3\n",
    "3.CDN.a,3,1,1,3,1,3,2,0,2,3,3,2,3,3,3,3,1,1,2,2,2,3,3,3,3,3,3,2,1,1,1,3,1,3\n",
    "3.CDN.b,3,3,3,3,3,3,3,3,2,3,3,3,1,3,3,3,2,3,3,2,3,3,3,3,3,3,3,2,3,1,0,3,3,3\n",
    "3.CDN.c,3,3,3,3,2,1,3,3,2,2,3,3,3,3,2,3,2,3,3,3,3,3,3,1,3,3,3,2,3,1,1,3,1,2\n",
    "4.P2P.a,3,3,3,3,3,0,3,3,3,3,3,3,3,3,3,3,3,3,3,3,3,3,3,0,3,3,3,3,3,3,3,0,3,3\n",
    "4.P2P.b,3,3,3,3,3,2,3,3,3,3,2,3,3,3,3,3,3,3,3,3,3,3,3,0,2,2,3,3,3,3,3,0,3,3\n",
    "4.P2P.c,3,3,3,3,3,2,3,3,3,3,3,3,3,3,3,3,3,3,3,3,3,3,3,3,3,3,3,3,3,3,3,3,3,3\n",
    "4.P2P.d,3,2,2,3,3,2,3,3,3,3,3,3,3,3,3,3,3,3,3,3,2,3,3,3,3,3,3,3,3,3,3,3,3,3\n",
    "4.P2P.e,3,2,3,0,3,3,3,1,1,3,3,1,3,3,3,3,3,3,1,3,1,1,2,3,3,3,2,3,3,3,2,2,3,3\n",
    "5.Virt.a,3,3,3,3,1,3,3,3,3,3,3,3,3,3,3,3,3,2,3,3,3,3,2,3,3,3,3,3,3,3,3,3,3,3\n",
    "5.Virt.b,3,3,3,3,2,0,3,1,3,0,3,1,3,3,3,3,3,0,2,3,3,3,3,2,2,3,2,3,1,3,2,1,1,3\n",
    "6.MapReduce.a,3,3,3,3,3,3,3,3,3,3,3,3,3,3,3,3,3,3,3,3,1,3,3,3,3,3,3,3,3,3,3,3,3,3\n",
    "6.MapReduce.b,3,3,3,3,3,2,3,0,3,3,3,0,3,3,3,2,3,1,3,3,3,3,3,3,1,3,3,2,3,3,2,3,3,3\n",
    "7. Cloud.a,3,3,3,3,3,3,3,2,3,2,3,2,3,3,3,3,3,2,3,3,3,2,3,2,3,3,3,2,3,2,0,3,1,3\n",
    "7.Cloud.b,3,3,3,3,1,3,3,2,3,3,3,1,3,3,3,0,3,1,3,1,2,3,2,0,2,3,3,3,3,3,0,3,2,3\n",
    "Total:,60,49,55,55,50,42,57,46,55,53,59,49,55,59,57,52,51,47,56,53,48,55,56,47,51,57,58,51,56,47,41,49,51,57\"\"\""
   ]
  },
  {
   "cell_type": "code",
   "execution_count": 5,
   "metadata": {
    "collapsed": true
   },
   "outputs": [],
   "source": [
    "list_res = a.split('\\n')"
   ]
  },
  {
   "cell_type": "code",
   "execution_count": 8,
   "metadata": {
    "collapsed": true
   },
   "outputs": [],
   "source": [
    "res_list = dict()\n",
    "for iterat, item in enumerate(list_res[0].split(',')):\n",
    "    res_list[item] = dict()\n",
    "    for list_line in list_res[1:]:\n",
    "        splitted_line = list_line.split(',')\n",
    "        res_list[item][splitted_line[0]] = splitted_line[iterat]\n",
    "    "
   ]
  },
  {
   "cell_type": "code",
   "execution_count": null,
   "metadata": {
    "collapsed": true
   },
   "outputs": [],
   "source": [
    "res_list[0]"
   ]
  },
  {
   "cell_type": "code",
   "execution_count": null,
   "metadata": {
    "collapsed": true
   },
   "outputs": [],
   "source": []
  }
 ],
 "metadata": {
  "kernelspec": {
   "display_name": "Python 3",
   "language": "python",
   "name": "python3"
  },
  "language_info": {
   "codemirror_mode": {
    "name": "ipython",
    "version": 3
   },
   "file_extension": ".py",
   "mimetype": "text/x-python",
   "name": "python",
   "nbconvert_exporter": "python",
   "pygments_lexer": "ipython3",
   "version": "3.5.2"
  }
 },
 "nbformat": 4,
 "nbformat_minor": 2
}
