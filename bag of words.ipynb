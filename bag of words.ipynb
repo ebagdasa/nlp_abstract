{
 "cells": [
  {
   "cell_type": "code",
   "execution_count": null,
   "metadata": {},
   "outputs": [
    {
     "name": "stderr",
     "output_type": "stream",
     "text": [
      "Using TensorFlow backend.\n",
      "WARNING:root:adsa:2000JMatS..35.4393W title is empty\n",
      "WARNING:root:adsa:2002RuPhJ..45..389B title is empty\n",
      "WARNING:root:doi:10.21609/jiki.v4i1.155 title is empty\n"
     ]
    }
   ],
   "source": [
    "import parser\n",
    "from keras.models import Sequential\n",
    "\n",
    "model = Sequential()\n",
    "import gzip, msgpack\n",
    "\n",
    "paper_list = list()\n",
    "with gzip.open(\"NN_Papers.msgpack.gz\", \"rb\") as nn_papers_out:\n",
    "    unpacker = msgpack.Unpacker(nn_papers_out, encoding='utf-8')\n",
    "    for _paper in unpacker:\n",
    "        # _paper is a python dict object. you can use it directly if you don't want to use the Paper class provided here\n",
    "        paper = parser.Paper.deserialize(_paper)\n",
    "        paper_list.append(paper)\n"
   ]
  },
  {
   "cell_type": "code",
   "execution_count": null,
   "metadata": {
    "collapsed": true
   },
   "outputs": [],
   "source": [
    "def get_ref_ids(paper):\n",
    "    ref_ids = {'self': None, 'doi_refs': dict()}\n",
    "    for ref in paper.references:\n",
    "        for identifier in ref.identifiers:\n",
    "            if identifier.key_type == 'doi':\n",
    "                ref_ids['doi_refs'].append(identifier.key)\n",
    "                break\n",
    "    for identifier in paper.identifiers:\n",
    "        if identifier.key_type == 'doi':\n",
    "                ref_ids['self'] = identifier.key\n",
    "                break\n",
    "    return ref_ids"
   ]
  },
  {
   "cell_type": "code",
   "execution_count": null,
   "metadata": {
    "collapsed": true
   },
   "outputs": [],
   "source": [
    "updated_array = dict()\n",
    "for paper in paper_list:\n",
    "    refs = get_ref_ids(paper)\n",
    "    my_array[refs['self']] = {'title': paper.title, 'doi_refs': refs['doi_refs'], 'abstract': paper.abstract}\n",
    "         "
   ]
  }
 ],
 "metadata": {
  "kernelspec": {
   "display_name": "Python 3",
   "language": "python",
   "name": "python3"
  },
  "language_info": {
   "codemirror_mode": {
    "name": "ipython",
    "version": 3
   },
   "file_extension": ".py",
   "mimetype": "text/x-python",
   "name": "python",
   "nbconvert_exporter": "python",
   "pygments_lexer": "ipython3",
   "version": "3.5.2"
  }
 },
 "nbformat": 4,
 "nbformat_minor": 2
}
